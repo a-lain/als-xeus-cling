{
 "cells": [
  {
   "cell_type": "code",
   "execution_count": 1,
   "id": "2e57c96a",
   "metadata": {},
   "outputs": [],
   "source": [
    "namespace xc = als::xeus_cling;\n",
    "namespace xu = als::utilities;"
   ]
  },
  {
   "cell_type": "code",
   "execution_count": 2,
   "id": "949f169c",
   "metadata": {},
   "outputs": [],
   "source": [
    "#pragma cling load(\"als-basic-utilities.so\")"
   ]
  },
  {
   "cell_type": "markdown",
   "id": "8364ffa1",
   "metadata": {},
   "source": [
    "<h3>FormatNumber</h3>"
   ]
  },
  {
   "cell_type": "markdown",
   "id": "920ec3ed",
   "metadata": {},
   "source": [
    "Most significant digit"
   ]
  },
  {
   "cell_type": "code",
   "execution_count": 3,
   "id": "c803bffd",
   "metadata": {},
   "outputs": [
    {
     "data": {
      "text/plain": [
       "-4"
      ]
     },
     "metadata": {},
     "output_type": "display_data"
    },
    {
     "data": {
      "text/plain": [
       "-3"
      ]
     },
     "metadata": {},
     "output_type": "display_data"
    },
    {
     "data": {
      "text/plain": [
       "-2"
      ]
     },
     "metadata": {},
     "output_type": "display_data"
    },
    {
     "data": {
      "text/plain": [
       "-1"
      ]
     },
     "metadata": {},
     "output_type": "display_data"
    },
    {
     "data": {
      "text/plain": [
       "0"
      ]
     },
     "metadata": {},
     "output_type": "display_data"
    },
    {
     "data": {
      "text/plain": [
       "0"
      ]
     },
     "metadata": {},
     "output_type": "display_data"
    },
    {
     "data": {
      "text/plain": [
       "0"
      ]
     },
     "metadata": {},
     "output_type": "display_data"
    },
    {
     "data": {
      "text/plain": [
       "1"
      ]
     },
     "metadata": {},
     "output_type": "display_data"
    },
    {
     "data": {
      "text/plain": [
       "2"
      ]
     },
     "metadata": {},
     "output_type": "display_data"
    },
    {
     "data": {
      "text/plain": [
       "3"
      ]
     },
     "metadata": {},
     "output_type": "display_data"
    }
   ],
   "source": [
    "xc::display_plain(xu::position_of_most_significant_digit(-0.00018969856));\n",
    "xc::display_plain(xu::position_of_most_significant_digit(-0.003));\n",
    "xc::display_plain(xu::position_of_most_significant_digit(0.09));\n",
    "xc::display_plain(xu::position_of_most_significant_digit(0.15));\n",
    "xc::display_plain(xu::position_of_most_significant_digit(0));\n",
    "xc::display_plain(xu::position_of_most_significant_digit(1.5));\n",
    "xc::display_plain(xu::position_of_most_significant_digit(2.5));\n",
    "xc::display_plain(xu::position_of_most_significant_digit(25));\n",
    "xc::display_plain(xu::position_of_most_significant_digit(250.5));\n",
    "xc::display_plain(xu::position_of_most_significant_digit(2500.5));"
   ]
  },
  {
   "cell_type": "markdown",
   "id": "72a7fb98",
   "metadata": {},
   "source": [
    "We test the default function."
   ]
  },
  {
   "cell_type": "code",
   "execution_count": 4,
   "id": "563b1b11",
   "metadata": {},
   "outputs": [
    {
     "data": {
      "text/plain": [
       "10^(3)"
      ]
     },
     "metadata": {},
     "output_type": "display_data"
    },
    {
     "data": {
      "text/plain": [
       "-10^(3)"
      ]
     },
     "metadata": {},
     "output_type": "display_data"
    },
    {
     "data": {
      "text/plain": [
       "1.01*10^(3)"
      ]
     },
     "metadata": {},
     "output_type": "display_data"
    },
    {
     "data": {
      "text/plain": [
       "-1.01*10^(3)"
      ]
     },
     "metadata": {},
     "output_type": "display_data"
    },
    {
     "data": {
      "text/plain": [
       "100"
      ]
     },
     "metadata": {},
     "output_type": "display_data"
    },
    {
     "data": {
      "text/plain": [
       "-100"
      ]
     },
     "metadata": {},
     "output_type": "display_data"
    },
    {
     "data": {
      "text/plain": [
       "10.0"
      ]
     },
     "metadata": {},
     "output_type": "display_data"
    },
    {
     "data": {
      "text/plain": [
       "-10.0"
      ]
     },
     "metadata": {},
     "output_type": "display_data"
    },
    {
     "data": {
      "text/plain": [
       "1.00"
      ]
     },
     "metadata": {},
     "output_type": "display_data"
    },
    {
     "data": {
      "text/plain": [
       "-1.00"
      ]
     },
     "metadata": {},
     "output_type": "display_data"
    },
    {
     "data": {
      "text/plain": [
       "0.100"
      ]
     },
     "metadata": {},
     "output_type": "display_data"
    },
    {
     "data": {
      "text/plain": [
       "-0.100"
      ]
     },
     "metadata": {},
     "output_type": "display_data"
    },
    {
     "data": {
      "text/plain": [
       "0.0100"
      ]
     },
     "metadata": {},
     "output_type": "display_data"
    },
    {
     "data": {
      "text/plain": [
       "-0.0100"
      ]
     },
     "metadata": {},
     "output_type": "display_data"
    },
    {
     "data": {
      "text/plain": [
       "0.00100"
      ]
     },
     "metadata": {},
     "output_type": "display_data"
    },
    {
     "data": {
      "text/plain": [
       "-0.00100"
      ]
     },
     "metadata": {},
     "output_type": "display_data"
    },
    {
     "data": {
      "text/plain": [
       "0.00120"
      ]
     },
     "metadata": {},
     "output_type": "display_data"
    },
    {
     "data": {
      "text/plain": [
       "-0.00120"
      ]
     },
     "metadata": {},
     "output_type": "display_data"
    },
    {
     "data": {
      "text/plain": [
       "0.00"
      ]
     },
     "metadata": {},
     "output_type": "display_data"
    },
    {
     "data": {
      "text/plain": [
       "57.9"
      ]
     },
     "metadata": {},
     "output_type": "display_data"
    },
    {
     "data": {
      "text/plain": [
       "57.1"
      ]
     },
     "metadata": {},
     "output_type": "display_data"
    },
    {
     "data": {
      "text/plain": [
       "-57.9"
      ]
     },
     "metadata": {},
     "output_type": "display_data"
    },
    {
     "data": {
      "text/plain": [
       "-57.1"
      ]
     },
     "metadata": {},
     "output_type": "display_data"
    },
    {
     "data": {
      "text/plain": [
       "3.95*10^(3)"
      ]
     },
     "metadata": {},
     "output_type": "display_data"
    },
    {
     "data": {
      "text/plain": [
       "3.94*10^(3)"
      ]
     },
     "metadata": {},
     "output_type": "display_data"
    },
    {
     "data": {
      "text/plain": [
       "-3.95*10^(3)"
      ]
     },
     "metadata": {},
     "output_type": "display_data"
    },
    {
     "data": {
      "text/plain": [
       "-3.94*10^(3)"
      ]
     },
     "metadata": {},
     "output_type": "display_data"
    }
   ],
   "source": [
    "xc::display_plain(1000.);\n",
    "xc::display_plain(-1000.);\n",
    "xc::display_plain(1010.);\n",
    "xc::display_plain(-1010.);\n",
    "xc::display_plain(100.);\n",
    "xc::display_plain(-100.);\n",
    "xc::display_plain(10.);\n",
    "xc::display_plain(-10.);\n",
    "xc::display_plain(1.);\n",
    "xc::display_plain(-1.);\n",
    "xc::display_plain(0.1);\n",
    "xc::display_plain(-0.1);\n",
    "xc::display_plain(0.01);\n",
    "xc::display_plain(-0.01);\n",
    "xc::display_plain(0.001);\n",
    "xc::display_plain(-0.001);\n",
    "xc::display_plain(0.0012);\n",
    "xc::display_plain(-0.0012);\n",
    "xc::display_plain(0.);\n",
    "xc::display_plain(57.8989);\n",
    "xc::display_plain(57.12);\n",
    "xc::display_plain(-57.8989);\n",
    "xc::display_plain(-57.12);\n",
    "xc::display_plain(3946.23894672383);\n",
    "xc::display_plain(3944.23894672383);\n",
    "xc::display_plain(-3946.23894672383);\n",
    "xc::display_plain(-3944.23894672383);"
   ]
  },
  {
   "cell_type": "code",
   "execution_count": 5,
   "id": "96fe93db",
   "metadata": {},
   "outputs": [
    {
     "data": {
      "text/latex": [
       "$10^{3}$"
      ]
     },
     "metadata": {},
     "output_type": "display_data"
    },
    {
     "data": {
      "text/latex": [
       "$-10^{3}$"
      ]
     },
     "metadata": {},
     "output_type": "display_data"
    },
    {
     "data": {
      "text/latex": [
       "$1.01\\cdot 10^{3}$"
      ]
     },
     "metadata": {},
     "output_type": "display_data"
    },
    {
     "data": {
      "text/latex": [
       "$-1.01\\cdot 10^{3}$"
      ]
     },
     "metadata": {},
     "output_type": "display_data"
    },
    {
     "data": {
      "text/latex": [
       "$100$"
      ]
     },
     "metadata": {},
     "output_type": "display_data"
    },
    {
     "data": {
      "text/latex": [
       "$-100$"
      ]
     },
     "metadata": {},
     "output_type": "display_data"
    },
    {
     "data": {
      "text/latex": [
       "$10.0$"
      ]
     },
     "metadata": {},
     "output_type": "display_data"
    },
    {
     "data": {
      "text/latex": [
       "$-10.0$"
      ]
     },
     "metadata": {},
     "output_type": "display_data"
    },
    {
     "data": {
      "text/latex": [
       "$1.00$"
      ]
     },
     "metadata": {},
     "output_type": "display_data"
    },
    {
     "data": {
      "text/latex": [
       "$-1.00$"
      ]
     },
     "metadata": {},
     "output_type": "display_data"
    },
    {
     "data": {
      "text/latex": [
       "$0.100$"
      ]
     },
     "metadata": {},
     "output_type": "display_data"
    },
    {
     "data": {
      "text/latex": [
       "$-0.100$"
      ]
     },
     "metadata": {},
     "output_type": "display_data"
    },
    {
     "data": {
      "text/latex": [
       "$0.0100$"
      ]
     },
     "metadata": {},
     "output_type": "display_data"
    },
    {
     "data": {
      "text/latex": [
       "$-0.0100$"
      ]
     },
     "metadata": {},
     "output_type": "display_data"
    },
    {
     "data": {
      "text/latex": [
       "$0.00100$"
      ]
     },
     "metadata": {},
     "output_type": "display_data"
    },
    {
     "data": {
      "text/latex": [
       "$-0.00100$"
      ]
     },
     "metadata": {},
     "output_type": "display_data"
    },
    {
     "data": {
      "text/latex": [
       "$0.00120$"
      ]
     },
     "metadata": {},
     "output_type": "display_data"
    },
    {
     "data": {
      "text/latex": [
       "$-0.00120$"
      ]
     },
     "metadata": {},
     "output_type": "display_data"
    },
    {
     "data": {
      "text/latex": [
       "$0.00$"
      ]
     },
     "metadata": {},
     "output_type": "display_data"
    },
    {
     "data": {
      "text/latex": [
       "$57.9$"
      ]
     },
     "metadata": {},
     "output_type": "display_data"
    },
    {
     "data": {
      "text/latex": [
       "$57.1$"
      ]
     },
     "metadata": {},
     "output_type": "display_data"
    },
    {
     "data": {
      "text/latex": [
       "$-57.9$"
      ]
     },
     "metadata": {},
     "output_type": "display_data"
    },
    {
     "data": {
      "text/latex": [
       "$-57.1$"
      ]
     },
     "metadata": {},
     "output_type": "display_data"
    },
    {
     "data": {
      "text/latex": [
       "$3.95\\cdot 10^{3}$"
      ]
     },
     "metadata": {},
     "output_type": "display_data"
    },
    {
     "data": {
      "text/latex": [
       "$3.94\\cdot 10^{3}$"
      ]
     },
     "metadata": {},
     "output_type": "display_data"
    },
    {
     "data": {
      "text/latex": [
       "$-3.95\\cdot 10^{3}$"
      ]
     },
     "metadata": {},
     "output_type": "display_data"
    },
    {
     "data": {
      "text/latex": [
       "$-3.94\\cdot 10^{3}$"
      ]
     },
     "metadata": {},
     "output_type": "display_data"
    }
   ],
   "source": [
    "xc::display_latex(1000.);\n",
    "xc::display_latex(-1000.);\n",
    "xc::display_latex(1010.);\n",
    "xc::display_latex(-1010.);\n",
    "xc::display_latex(100.);\n",
    "xc::display_latex(-100.);\n",
    "xc::display_latex(10.);\n",
    "xc::display_latex(-10.);\n",
    "xc::display_latex(1.);\n",
    "xc::display_latex(-1.);\n",
    "xc::display_latex(0.1);\n",
    "xc::display_latex(-0.1);\n",
    "xc::display_latex(0.01);\n",
    "xc::display_latex(-0.01);\n",
    "xc::display_latex(0.001);\n",
    "xc::display_latex(-0.001);\n",
    "xc::display_latex(0.0012);\n",
    "xc::display_latex(-0.0012);\n",
    "xc::display_latex(0.);\n",
    "xc::display_latex(57.8989);\n",
    "xc::display_latex(57.12);\n",
    "xc::display_latex(-57.8989);\n",
    "xc::display_latex(-57.12);\n",
    "xc::display_latex(3946.23894672383);\n",
    "xc::display_latex(3944.23894672383);\n",
    "xc::display_latex(-3946.23894672383);\n",
    "xc::display_latex(-3944.23894672383);"
   ]
  },
  {
   "cell_type": "code",
   "execution_count": null,
   "id": "ee555025",
   "metadata": {},
   "outputs": [],
   "source": []
  },
  {
   "cell_type": "code",
   "execution_count": 6,
   "id": "32555e86",
   "metadata": {},
   "outputs": [
    {
     "data": {
      "text/plain": [
       "+10^(3)"
      ]
     },
     "metadata": {},
     "output_type": "display_data"
    },
    {
     "data": {
      "text/plain": [
       "-10^(3)"
      ]
     },
     "metadata": {},
     "output_type": "display_data"
    },
    {
     "data": {
      "text/plain": [
       "+1.01*10^(3)"
      ]
     },
     "metadata": {},
     "output_type": "display_data"
    },
    {
     "data": {
      "text/plain": [
       "-1.01*10^(3)"
      ]
     },
     "metadata": {},
     "output_type": "display_data"
    },
    {
     "data": {
      "text/plain": [
       "+100"
      ]
     },
     "metadata": {},
     "output_type": "display_data"
    },
    {
     "data": {
      "text/plain": [
       "-100"
      ]
     },
     "metadata": {},
     "output_type": "display_data"
    },
    {
     "data": {
      "text/plain": [
       "+10.0"
      ]
     },
     "metadata": {},
     "output_type": "display_data"
    },
    {
     "data": {
      "text/plain": [
       "-10.0"
      ]
     },
     "metadata": {},
     "output_type": "display_data"
    },
    {
     "data": {
      "text/plain": [
       "+1.00"
      ]
     },
     "metadata": {},
     "output_type": "display_data"
    },
    {
     "data": {
      "text/plain": [
       "-1.00"
      ]
     },
     "metadata": {},
     "output_type": "display_data"
    },
    {
     "data": {
      "text/plain": [
       "+0.100"
      ]
     },
     "metadata": {},
     "output_type": "display_data"
    },
    {
     "data": {
      "text/plain": [
       "-0.100"
      ]
     },
     "metadata": {},
     "output_type": "display_data"
    },
    {
     "data": {
      "text/plain": [
       "+0.0100"
      ]
     },
     "metadata": {},
     "output_type": "display_data"
    },
    {
     "data": {
      "text/plain": [
       "-0.0100"
      ]
     },
     "metadata": {},
     "output_type": "display_data"
    },
    {
     "data": {
      "text/plain": [
       "+0.00100"
      ]
     },
     "metadata": {},
     "output_type": "display_data"
    },
    {
     "data": {
      "text/plain": [
       "-0.00100"
      ]
     },
     "metadata": {},
     "output_type": "display_data"
    },
    {
     "data": {
      "text/plain": [
       "+0.00120"
      ]
     },
     "metadata": {},
     "output_type": "display_data"
    },
    {
     "data": {
      "text/plain": [
       "-0.00120"
      ]
     },
     "metadata": {},
     "output_type": "display_data"
    },
    {
     "data": {
      "text/plain": [
       "0.00"
      ]
     },
     "metadata": {},
     "output_type": "display_data"
    },
    {
     "data": {
      "text/plain": [
       "+57.9"
      ]
     },
     "metadata": {},
     "output_type": "display_data"
    },
    {
     "data": {
      "text/plain": [
       "+57.1"
      ]
     },
     "metadata": {},
     "output_type": "display_data"
    },
    {
     "data": {
      "text/plain": [
       "-57.9"
      ]
     },
     "metadata": {},
     "output_type": "display_data"
    },
    {
     "data": {
      "text/plain": [
       "-57.1"
      ]
     },
     "metadata": {},
     "output_type": "display_data"
    },
    {
     "data": {
      "text/plain": [
       "+3.95*10^(3)"
      ]
     },
     "metadata": {},
     "output_type": "display_data"
    },
    {
     "data": {
      "text/plain": [
       "+3.94*10^(3)"
      ]
     },
     "metadata": {},
     "output_type": "display_data"
    },
    {
     "data": {
      "text/plain": [
       "-3.95*10^(3)"
      ]
     },
     "metadata": {},
     "output_type": "display_data"
    },
    {
     "data": {
      "text/plain": [
       "-3.94*10^(3)"
      ]
     },
     "metadata": {},
     "output_type": "display_data"
    }
   ],
   "source": [
    "xc::display_plain(1000., 3u, true);\n",
    "xc::display_plain(-1000., 3u, true);\n",
    "xc::display_plain(1010., 3u, true);\n",
    "xc::display_plain(-1010., 3u, true);\n",
    "xc::display_plain(100., 3u, true);\n",
    "xc::display_plain(-100., 3u, true);\n",
    "xc::display_plain(10., 3u, true);\n",
    "xc::display_plain(-10., 3u, true);\n",
    "xc::display_plain(1., 3u, true);\n",
    "xc::display_plain(-1., 3u, true);\n",
    "xc::display_plain(0.1, 3u, true);\n",
    "xc::display_plain(-0.1, 3u, true);\n",
    "xc::display_plain(0.01, 3u, true);\n",
    "xc::display_plain(-0.01, 3u, true);\n",
    "xc::display_plain(0.001, 3u, true);\n",
    "xc::display_plain(-0.001, 3u, true);\n",
    "xc::display_plain(0.0012, 3u, true);\n",
    "xc::display_plain(-0.0012, 3u, true);\n",
    "xc::display_plain(0., 3u, true);\n",
    "xc::display_plain(57.8989, 3u, true);\n",
    "xc::display_plain(57.12, 3u, true);\n",
    "xc::display_plain(-57.8989, 3u, true);\n",
    "xc::display_plain(-57.12, 3u, true);\n",
    "xc::display_plain(3946.23894672383, 3u, true);\n",
    "xc::display_plain(3944.23894672383, 3u, true);\n",
    "xc::display_plain(-3946.23894672383, 3u, true);\n",
    "xc::display_plain(-3944.23894672383, 3u, true);"
   ]
  },
  {
   "cell_type": "code",
   "execution_count": 7,
   "id": "c2574900",
   "metadata": {},
   "outputs": [
    {
     "data": {
      "text/latex": [
       "$+10^{3}$"
      ]
     },
     "metadata": {},
     "output_type": "display_data"
    },
    {
     "data": {
      "text/latex": [
       "$-10^{3}$"
      ]
     },
     "metadata": {},
     "output_type": "display_data"
    },
    {
     "data": {
      "text/latex": [
       "$+1.01\\cdot 10^{3}$"
      ]
     },
     "metadata": {},
     "output_type": "display_data"
    },
    {
     "data": {
      "text/latex": [
       "$-1.01\\cdot 10^{3}$"
      ]
     },
     "metadata": {},
     "output_type": "display_data"
    },
    {
     "data": {
      "text/latex": [
       "$+100$"
      ]
     },
     "metadata": {},
     "output_type": "display_data"
    },
    {
     "data": {
      "text/latex": [
       "$-100$"
      ]
     },
     "metadata": {},
     "output_type": "display_data"
    },
    {
     "data": {
      "text/latex": [
       "$+10.0$"
      ]
     },
     "metadata": {},
     "output_type": "display_data"
    },
    {
     "data": {
      "text/latex": [
       "$-10.0$"
      ]
     },
     "metadata": {},
     "output_type": "display_data"
    },
    {
     "data": {
      "text/latex": [
       "$+1.00$"
      ]
     },
     "metadata": {},
     "output_type": "display_data"
    },
    {
     "data": {
      "text/latex": [
       "$-1.00$"
      ]
     },
     "metadata": {},
     "output_type": "display_data"
    },
    {
     "data": {
      "text/latex": [
       "$+0.100$"
      ]
     },
     "metadata": {},
     "output_type": "display_data"
    },
    {
     "data": {
      "text/latex": [
       "$-0.100$"
      ]
     },
     "metadata": {},
     "output_type": "display_data"
    },
    {
     "data": {
      "text/latex": [
       "$+0.0100$"
      ]
     },
     "metadata": {},
     "output_type": "display_data"
    },
    {
     "data": {
      "text/latex": [
       "$-0.0100$"
      ]
     },
     "metadata": {},
     "output_type": "display_data"
    },
    {
     "data": {
      "text/latex": [
       "$+0.00100$"
      ]
     },
     "metadata": {},
     "output_type": "display_data"
    },
    {
     "data": {
      "text/latex": [
       "$-0.00100$"
      ]
     },
     "metadata": {},
     "output_type": "display_data"
    },
    {
     "data": {
      "text/latex": [
       "$+0.00120$"
      ]
     },
     "metadata": {},
     "output_type": "display_data"
    },
    {
     "data": {
      "text/latex": [
       "$-0.00120$"
      ]
     },
     "metadata": {},
     "output_type": "display_data"
    },
    {
     "data": {
      "text/latex": [
       "$0.00$"
      ]
     },
     "metadata": {},
     "output_type": "display_data"
    },
    {
     "data": {
      "text/latex": [
       "$+57.9$"
      ]
     },
     "metadata": {},
     "output_type": "display_data"
    },
    {
     "data": {
      "text/latex": [
       "$+57.1$"
      ]
     },
     "metadata": {},
     "output_type": "display_data"
    },
    {
     "data": {
      "text/latex": [
       "$-57.9$"
      ]
     },
     "metadata": {},
     "output_type": "display_data"
    },
    {
     "data": {
      "text/latex": [
       "$-57.1$"
      ]
     },
     "metadata": {},
     "output_type": "display_data"
    },
    {
     "data": {
      "text/latex": [
       "$+3.95\\cdot 10^{3}$"
      ]
     },
     "metadata": {},
     "output_type": "display_data"
    },
    {
     "data": {
      "text/latex": [
       "$+3.94\\cdot 10^{3}$"
      ]
     },
     "metadata": {},
     "output_type": "display_data"
    },
    {
     "data": {
      "text/latex": [
       "$-3.95\\cdot 10^{3}$"
      ]
     },
     "metadata": {},
     "output_type": "display_data"
    },
    {
     "data": {
      "text/latex": [
       "$-3.94\\cdot 10^{3}$"
      ]
     },
     "metadata": {},
     "output_type": "display_data"
    }
   ],
   "source": [
    "xc::display_latex(1000., 3u, true);\n",
    "xc::display_latex(-1000., 3u, true);\n",
    "xc::display_latex(1010., 3u, true);\n",
    "xc::display_latex(-1010., 3u, true);\n",
    "xc::display_latex(100., 3u, true);\n",
    "xc::display_latex(-100., 3u, true);\n",
    "xc::display_latex(10., 3u, true);\n",
    "xc::display_latex(-10., 3u, true);\n",
    "xc::display_latex(1., 3u, true);\n",
    "xc::display_latex(-1., 3u, true);\n",
    "xc::display_latex(0.1, 3u, true);\n",
    "xc::display_latex(-0.1, 3u, true);\n",
    "xc::display_latex(0.01, 3u, true);\n",
    "xc::display_latex(-0.01, 3u, true);\n",
    "xc::display_latex(0.001, 3u, true);\n",
    "xc::display_latex(-0.001, 3u, true);\n",
    "xc::display_latex(0.0012, 3u, true);\n",
    "xc::display_latex(-0.0012, 3u, true);\n",
    "xc::display_latex(0., 3u, true);\n",
    "xc::display_latex(57.8989, 3u, true);\n",
    "xc::display_latex(57.12, 3u, true);\n",
    "xc::display_latex(-57.8989, 3u, true);\n",
    "xc::display_latex(-57.12, 3u, true);\n",
    "xc::display_latex(3946.23894672383, 3u, true);\n",
    "xc::display_latex(3944.23894672383, 3u, true);\n",
    "xc::display_latex(-3946.23894672383, 3u, true);\n",
    "xc::display_latex(-3944.23894672383, 3u, true);"
   ]
  },
  {
   "cell_type": "code",
   "execution_count": 8,
   "id": "ee97d4cc",
   "metadata": {},
   "outputs": [
    {
     "data": {
      "text/plain": [
       "0.123"
      ]
     },
     "metadata": {},
     "output_type": "display_data"
    },
    {
     "data": {
      "text/plain": [
       "0.12"
      ]
     },
     "metadata": {},
     "output_type": "display_data"
    },
    {
     "data": {
      "text/plain": [
       "0.1"
      ]
     },
     "metadata": {},
     "output_type": "display_data"
    },
    {
     "data": {
      "text/plain": [
       "0"
      ]
     },
     "metadata": {},
     "output_type": "display_data"
    }
   ],
   "source": [
    "xc::display_plain(0.123, 3u);\n",
    "xc::display_plain(0.123, 2u);\n",
    "xc::display_plain(0.123, 1u);\n",
    "xc::display_plain(0.123, 0u);"
   ]
  },
  {
   "cell_type": "code",
   "execution_count": null,
   "id": "50a26e5d",
   "metadata": {},
   "outputs": [],
   "source": []
  },
  {
   "cell_type": "code",
   "execution_count": null,
   "id": "c0bb6f60",
   "metadata": {},
   "outputs": [],
   "source": []
  }
 ],
 "metadata": {
  "kernelspec": {
   "display_name": "als-xeus-cling",
   "language": "c++17",
   "name": "als-xeus-cling-kernel"
  },
  "language_info": {
   "codemirror_mode": "text/x-c++src",
   "file_extension": ".cpp",
   "mimetype": "text/x-c++src",
   "name": "c++",
   "nbconvert_exporter": "",
   "pygments_lexer": "",
   "version": "c++17"
  }
 },
 "nbformat": 4,
 "nbformat_minor": 5
}
