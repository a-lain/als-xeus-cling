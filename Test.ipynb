{
 "cells": [
  {
   "cell_type": "markdown",
   "id": "3650ea95",
   "metadata": {},
   "source": [
    "Esto es una prueba."
   ]
  },
  {
   "cell_type": "code",
   "execution_count": 1,
   "id": "937bb2ce",
   "metadata": {},
   "outputs": [],
   "source": [
    "namespace xc = als::xeus_cling;\n",
    "namespace xu = als::utilities;"
   ]
  },
  {
   "cell_type": "code",
   "execution_count": 2,
   "id": "c8348210",
   "metadata": {
    "scrolled": false
   },
   "outputs": [
    {
     "data": {
      "text/latex": [
       "$7.8300\\cdot 10^{-4}$"
      ]
     },
     "metadata": {},
     "output_type": "display_data"
    },
    {
     "data": {
      "text/latex": [
       "$+1$"
      ]
     },
     "metadata": {},
     "output_type": "display_data"
    }
   ],
   "source": [
    "xc::display(7.83e-4, xu::RepresentationType::LATEX, 5u);\n",
    "xc::display(1, xu::RepresentationType::LATEX, true);"
   ]
  },
  {
   "cell_type": "code",
   "execution_count": 3,
   "id": "978e74b5",
   "metadata": {},
   "outputs": [],
   "source": [
    "#include <vector>"
   ]
  },
  {
   "cell_type": "code",
   "execution_count": 4,
   "id": "a9e3a90d",
   "metadata": {},
   "outputs": [
    {
     "data": {
      "text/plain": [
       "[1.00, 2.00, 3.00, 4.00]"
      ]
     },
     "execution_count": 4,
     "metadata": {},
     "output_type": "execute_result"
    }
   ],
   "source": [
    "std::vector<double> a = {1,2,3,4}"
   ]
  },
  {
   "cell_type": "code",
   "execution_count": 5,
   "id": "d2d104a2",
   "metadata": {},
   "outputs": [
    {
     "data": {
      "text/latex": [
       "$\\left[1.0000, 2.0000, 3.0000, 4.0000\\right]$"
      ]
     },
     "metadata": {},
     "output_type": "display_data"
    }
   ],
   "source": [
    "xc::display(a, xu::RepresentationType::LATEX, 5u)"
   ]
  },
  {
   "cell_type": "code",
   "execution_count": 6,
   "id": "4d6e644e",
   "metadata": {
    "scrolled": true
   },
   "outputs": [
    {
     "data": {
      "text/plain": [
       "3.30"
      ]
     },
     "execution_count": 6,
     "metadata": {},
     "output_type": "execute_result"
    }
   ],
   "source": [
    "7 - 3.7"
   ]
  },
  {
   "cell_type": "code",
   "execution_count": 7,
   "id": "253e4965",
   "metadata": {},
   "outputs": [],
   "source": [
    "xci->display_preferencies = xu::RepresentationType::LATEX;"
   ]
  },
  {
   "cell_type": "code",
   "execution_count": 8,
   "id": "9018e4f3",
   "metadata": {},
   "outputs": [
    {
     "data": {
      "text/latex": [
       "$\\left[1.00, 2.00, 3.00, 4.00\\right]$"
      ]
     },
     "execution_count": 8,
     "metadata": {},
     "output_type": "execute_result"
    }
   ],
   "source": [
    "std::vector<double> b = {1,2,3,4}"
   ]
  },
  {
   "cell_type": "code",
   "execution_count": 9,
   "id": "4ea1fec7",
   "metadata": {},
   "outputs": [
    {
     "data": {
      "text/latex": [
       "$3.30$"
      ]
     },
     "execution_count": 9,
     "metadata": {},
     "output_type": "execute_result"
    }
   ],
   "source": [
    "7 - 3.7"
   ]
  },
  {
   "cell_type": "code",
   "execution_count": null,
   "id": "070015f3",
   "metadata": {},
   "outputs": [],
   "source": []
  }
 ],
 "metadata": {
  "kernelspec": {
   "display_name": "als-xeus-cling",
   "language": "c++17",
   "name": "als-xeus-cling-kernel"
  },
  "language_info": {
   "codemirror_mode": "text/x-c++src",
   "file_extension": ".cpp",
   "mimetype": "text/x-c++src",
   "name": "c++",
   "nbconvert_exporter": "",
   "pygments_lexer": "",
   "version": "c++17"
  }
 },
 "nbformat": 4,
 "nbformat_minor": 5
}
